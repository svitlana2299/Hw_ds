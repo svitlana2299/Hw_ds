{
  "nbformat": 4,
  "nbformat_minor": 0,
  "metadata": {
    "colab": {
      "provenance": [],
      "authorship_tag": "ABX9TyMgxSErr+d6vcbvXpd+STSC",
      "include_colab_link": true
    },
    "kernelspec": {
      "name": "python3",
      "display_name": "Python 3"
    },
    "language_info": {
      "name": "python"
    }
  },
  "cells": [
    {
      "cell_type": "markdown",
      "metadata": {
        "id": "view-in-github",
        "colab_type": "text"
      },
      "source": [
        "<a href=\"https://colab.research.google.com/github/svitlana2299/Hw_ds/blob/main/Hw1.ipynb\" target=\"_parent\"><img src=\"https://colab.research.google.com/assets/colab-badge.svg\" alt=\"Open In Colab\"/></a>"
      ]
    },
    {
      "cell_type": "markdown",
      "source": [
        "1. Створіть одновимірний масив (вектор) з першими 10-ма натуральними числами та виведіть його значення."
      ],
      "metadata": {
        "id": "8QiFDtAP422N"
      }
    },
    {
      "cell_type": "code",
      "execution_count": 7,
      "metadata": {
        "colab": {
          "base_uri": "https://localhost:8080/"
        },
        "id": "To8xgF-6yOYF",
        "outputId": "41cddd1c-fc8c-4153-c940-9dca33636311"
      },
      "outputs": [
        {
          "output_type": "stream",
          "name": "stdout",
          "text": [
            "[ 1  2  3  4  5  6  7  8  9 10]\n"
          ]
        }
      ],
      "source": [
        "a = np.array([1, 2, 3, 4, 5, 6, 7, 8, 9, 10])\n",
        "print(a)"
      ]
    },
    {
      "cell_type": "code",
      "source": [
        "a = list(range(1, 11))\n",
        "print(a)"
      ],
      "metadata": {
        "colab": {
          "base_uri": "https://localhost:8080/"
        },
        "id": "WhPBoTOR0SrO",
        "outputId": "9fc3dd7f-db33-436d-9054-e72dc816e89a"
      },
      "execution_count": 6,
      "outputs": [
        {
          "output_type": "stream",
          "name": "stdout",
          "text": [
            "[1, 2, 3, 4, 5, 6, 7, 8, 9, 10]\n"
          ]
        }
      ]
    },
    {
      "cell_type": "markdown",
      "source": [
        "2. Створіть двовимірний масив (матрицю) розміром 3x3, заповніть його нулями та виведіть його значення."
      ],
      "metadata": {
        "id": "sdm7Sg034_0b"
      }
    },
    {
      "cell_type": "code",
      "source": [
        "m_1 = np.array([[0, 0, 0], [0, 0, 0], [0, 0, 0]], dtype=int)\n",
        "\n",
        "print(m_1)"
      ],
      "metadata": {
        "colab": {
          "base_uri": "https://localhost:8080/"
        },
        "id": "PhreYraIyxN2",
        "outputId": "319eb911-1308-49d5-e489-0d38531f0bb0"
      },
      "execution_count": 19,
      "outputs": [
        {
          "output_type": "stream",
          "name": "stdout",
          "text": [
            "[[0 0 0]\n",
            " [0 0 0]\n",
            " [0 0 0]]\n"
          ]
        }
      ]
    },
    {
      "cell_type": "code",
      "source": [
        "m_1 = np.zeros((3, 3), dtype=int)\n",
        "print(m_1)"
      ],
      "metadata": {
        "colab": {
          "base_uri": "https://localhost:8080/"
        },
        "id": "JH3AEOMUzmyE",
        "outputId": "68313b5d-ed04-4c76-ca2e-bf839e2613d3"
      },
      "execution_count": 3,
      "outputs": [
        {
          "output_type": "stream",
          "name": "stdout",
          "text": [
            "[[0 0 0]\n",
            " [0 0 0]\n",
            " [0 0 0]]\n"
          ]
        }
      ]
    },
    {
      "cell_type": "markdown",
      "source": [
        "3. Створіть масив розміром 5x5, заповніть його випадковими цілими числами в діапазоні від 1 до 10 та виведіть його значення."
      ],
      "metadata": {
        "id": "Qq5FxVtp5E2C"
      }
    },
    {
      "cell_type": "code",
      "source": [
        "matrix_1 = np.random.randint(1, 11, (5, 5))\n",
        "print(matrix_1)"
      ],
      "metadata": {
        "colab": {
          "base_uri": "https://localhost:8080/"
        },
        "id": "OQFKgsHkzp_e",
        "outputId": "9ed4b04f-173b-46a3-baf0-bf703ac5e293"
      },
      "execution_count": 12,
      "outputs": [
        {
          "output_type": "stream",
          "name": "stdout",
          "text": [
            "[[ 5  2 10  9  8]\n",
            " [ 5  7  8  7  2]\n",
            " [ 2  9  6  2  1]\n",
            " [ 1  1  8  3  1]\n",
            " [ 7  4  1  4  8]]\n"
          ]
        }
      ]
    },
    {
      "cell_type": "markdown",
      "source": [
        "4. Створіть масив розміром 4x4, заповніть його випадковими дійсними числами в діапазоні від 0 до 1 та виведіть його значення."
      ],
      "metadata": {
        "id": "oXxKZcJg5Umx"
      }
    },
    {
      "cell_type": "code",
      "source": [
        "matrix_2 = np.random.rand(4, 4)\n",
        "print(matrix_2)"
      ],
      "metadata": {
        "colab": {
          "base_uri": "https://localhost:8080/"
        },
        "id": "Qo9kgjUz0tid",
        "outputId": "31b528cb-8998-4bbf-b877-5d6aacefad3f"
      },
      "execution_count": 14,
      "outputs": [
        {
          "output_type": "stream",
          "name": "stdout",
          "text": [
            "[[0.0639952  0.2683113  0.43256616 0.13650928]\n",
            " [0.64191061 0.36817797 0.63557398 0.97124163]\n",
            " [0.92723262 0.33718978 0.03299554 0.46864491]\n",
            " [0.55302335 0.88202927 0.93724674 0.61626707]]\n"
          ]
        }
      ]
    },
    {
      "cell_type": "markdown",
      "source": [
        "5. Створіть два одновимірних масиви розміром 5, заповніть їх випадковими цілими числами в діапазоні від 1 до 10 та виконайте на них поелементні операції додавання, віднімання та множення."
      ],
      "metadata": {
        "id": "_qFWVMkJ5b4E"
      }
    },
    {
      "cell_type": "code",
      "source": [
        "matrix_3 = np.random.randint(1, 11, (5, 5))\n",
        "matrix_4 = np.random.randint(1, 11, (5, 5))\n",
        "print(matrix_3)\n",
        "print(matrix_4)\n",
        "print(matrix_3 + matrix_4)\n",
        "print(matrix_3 - matrix_4)\n",
        "print(matrix_3 * matrix_4)"
      ],
      "metadata": {
        "colab": {
          "base_uri": "https://localhost:8080/"
        },
        "id": "fixGu22C18MX",
        "outputId": "69abe167-6db7-4a71-b01f-e5327ecf5af0"
      },
      "execution_count": 16,
      "outputs": [
        {
          "output_type": "stream",
          "name": "stdout",
          "text": [
            "[[ 2 10  7  6  8]\n",
            " [ 7  2  5  7  8]\n",
            " [10  7  6  8  9]\n",
            " [ 7  1  7  1  8]\n",
            " [ 9 10  9  4  7]]\n",
            "[[9 4 4 2 5]\n",
            " [8 7 6 9 4]\n",
            " [1 2 2 9 8]\n",
            " [3 6 9 5 1]\n",
            " [4 6 3 1 6]]\n",
            "[[11 14 11  8 13]\n",
            " [15  9 11 16 12]\n",
            " [11  9  8 17 17]\n",
            " [10  7 16  6  9]\n",
            " [13 16 12  5 13]]\n",
            "[[-7  6  3  4  3]\n",
            " [-1 -5 -1 -2  4]\n",
            " [ 9  5  4 -1  1]\n",
            " [ 4 -5 -2 -4  7]\n",
            " [ 5  4  6  3  1]]\n",
            "[[18 40 28 12 40]\n",
            " [56 14 30 63 32]\n",
            " [10 14 12 72 72]\n",
            " [21  6 63  5  8]\n",
            " [36 60 27  4 42]]\n"
          ]
        }
      ]
    },
    {
      "cell_type": "markdown",
      "source": [
        "6. Створіть два вектори розміром 7, заповніть довільними числами та знайдіть їх скалярний добуток."
      ],
      "metadata": {
        "id": "JsvkJXyH5gFg"
      }
    },
    {
      "cell_type": "code",
      "source": [
        "v_1 = np.random.random(7)\n",
        "v_2 = np.random.random(7)\n",
        "print(v_1, v_2)\n",
        "print(np.dot(v_1, v_2))"
      ],
      "metadata": {
        "colab": {
          "base_uri": "https://localhost:8080/"
        },
        "id": "8NEKH3Z32WDI",
        "outputId": "dfac0127-ccce-4365-a500-f57b0f32ee1e"
      },
      "execution_count": 18,
      "outputs": [
        {
          "output_type": "stream",
          "name": "stdout",
          "text": [
            "[0.43464015 0.05887596 0.77742086 0.49663844 0.2541014  0.16225096\n",
            " 0.90071174] [0.41915316 0.72879906 0.15432513 0.93999489 0.6001001  0.94765923\n",
            " 0.3842945 ]\n",
            "1.4642861616200133\n"
          ]
        }
      ]
    },
    {
      "cell_type": "markdown",
      "source": [
        "7. Створіть дві матриці розміром 2x2 та 2x3, заповніть їх випадковими цілими числами в діапазоні від 1 до 10 та перемножте їх між собою."
      ],
      "metadata": {
        "id": "dNqZyhuj4yI1"
      }
    },
    {
      "cell_type": "code",
      "source": [
        "matrix_5 = np.random.randint(1, 11, (2, 2))\n",
        "matrix_6 = np.random.randint(1, 11, (2, 3))\n",
        "r = np.dot(matrix_5, matrix_6)\n",
        "print(matrix_5)\n",
        "print(matrix_6)\n",
        "print(r)"
      ],
      "metadata": {
        "colab": {
          "base_uri": "https://localhost:8080/"
        },
        "id": "pSfvnrB_6wuU",
        "outputId": "8d08785a-3697-47b3-967a-8c156968a4b4"
      },
      "execution_count": 25,
      "outputs": [
        {
          "output_type": "stream",
          "name": "stdout",
          "text": [
            "[[ 5 10]\n",
            " [ 6  2]]\n",
            "[[ 4 10  9]\n",
            " [ 3  1  4]]\n",
            "[[50 60 85]\n",
            " [30 62 62]]\n"
          ]
        }
      ]
    },
    {
      "cell_type": "markdown",
      "source": [
        "8. Створіть матрицю розміром 3x3, заповніть її випадковими цілими числами в діапазоні від 1 до 10 та знайдіть її обернену матрицю."
      ],
      "metadata": {
        "id": "e7ayJUuE41K3"
      }
    },
    {
      "cell_type": "code",
      "source": [
        "matrix_7 = np.random.randint(1, 11, (3, 3))\n",
        "matrix_7_inv = np.linalg.inv(matrix_7)\n",
        "print(matrix_7)\n",
        "print(matrix_7_inv)"
      ],
      "metadata": {
        "colab": {
          "base_uri": "https://localhost:8080/"
        },
        "id": "yh3srqUJ7ZPC",
        "outputId": "8cb762b9-463b-466f-cbb1-b1373f2d5bc4"
      },
      "execution_count": 24,
      "outputs": [
        {
          "output_type": "stream",
          "name": "stdout",
          "text": [
            "[[ 4  3  4]\n",
            " [10  1  6]\n",
            " [ 1  9 10]]\n",
            "[[ 0.43137255 -0.05882353 -0.1372549 ]\n",
            " [ 0.92156863 -0.35294118 -0.15686275]\n",
            " [-0.87254902  0.32352941  0.25490196]]\n"
          ]
        }
      ]
    },
    {
      "cell_type": "markdown",
      "source": [
        "9. Створіть матрицю розміром 4x4, заповніть її випадковими дійсними числами в діапазоні від 0 до 1 та транспонуйте її."
      ],
      "metadata": {
        "id": "91ME0H7b5ywM"
      }
    },
    {
      "cell_type": "code",
      "source": [
        "matrix_8 = np.random.rand(4, 4)\n",
        "matrix_8_t = matrix_8.T\n",
        "print(matrix_8)\n",
        "print(matrix_8_t)"
      ],
      "metadata": {
        "colab": {
          "base_uri": "https://localhost:8080/"
        },
        "id": "66_MwWwu8NLL",
        "outputId": "a1037074-937e-4844-e4c7-feeb8cdb4596"
      },
      "execution_count": 26,
      "outputs": [
        {
          "output_type": "stream",
          "name": "stdout",
          "text": [
            "[[0.42891804 0.49494748 0.67023443 0.13993027]\n",
            " [0.2010989  0.01276457 0.80083977 0.02352278]\n",
            " [0.54047043 0.04934134 0.97402524 0.74930712]\n",
            " [0.47796469 0.32491246 0.02180259 0.83974304]]\n",
            "[[0.42891804 0.2010989  0.54047043 0.47796469]\n",
            " [0.49494748 0.01276457 0.04934134 0.32491246]\n",
            " [0.67023443 0.80083977 0.97402524 0.02180259]\n",
            " [0.13993027 0.02352278 0.74930712 0.83974304]]\n"
          ]
        }
      ]
    },
    {
      "cell_type": "markdown",
      "source": [
        "10. Створіть матрицю розміром 3x4 та вектор розміром 4, заповніть їх випадковими цілими числами в діапазоні від 1 до 10 та перемножте матрицю на вектор."
      ],
      "metadata": {
        "id": "kaJf6tdh51zn"
      }
    },
    {
      "cell_type": "code",
      "source": [
        "matrix_9 = np.random.randint(1, 11, (3, 4))\n",
        "v_3 = np.random.randint(1, 11, 4)\n",
        "r = np.dot(matrix_9, v_3)\n",
        "print(matrix_9)\n",
        "print(v_3)\n",
        "print(r)"
      ],
      "metadata": {
        "colab": {
          "base_uri": "https://localhost:8080/"
        },
        "id": "H3I86SwK85ZJ",
        "outputId": "f2c84e18-bb90-429e-fb69-fca8c215ae5c"
      },
      "execution_count": 31,
      "outputs": [
        {
          "output_type": "stream",
          "name": "stdout",
          "text": [
            "[[10  5  8  8]\n",
            " [ 3  1  3  5]\n",
            " [ 3  7  4  2]]\n",
            "[6 8 1 6]\n",
            "[156  59  90]\n"
          ]
        }
      ]
    },
    {
      "cell_type": "markdown",
      "source": [
        "11. Створіть матрицю розміром 2x3 та вектор розміром 3, заповніть їх випадковими дійсними числами в діапазоні від 0 до 1 та перемножте матрицю на вектор."
      ],
      "metadata": {
        "id": "ejUYR0b158XU"
      }
    },
    {
      "cell_type": "code",
      "source": [
        "matrix_10 = np.random.rand(3, 4)\n",
        "v_4 = np.random.rand(4)\n",
        "r = np.dot(matrix_10, v_4)\n",
        "print(matrix_10)\n",
        "print(v_4)\n",
        "print(r)"
      ],
      "metadata": {
        "colab": {
          "base_uri": "https://localhost:8080/"
        },
        "id": "t7n8y5DM-H4O",
        "outputId": "7fc855e9-5b97-4fee-d1dd-b292531e23a8"
      },
      "execution_count": 43,
      "outputs": [
        {
          "output_type": "stream",
          "name": "stdout",
          "text": [
            "[[0.63770583 0.24197035 0.34111115 0.74580347]\n",
            " [0.57910134 0.91859191 0.24933972 0.50707309]\n",
            " [0.98186504 0.44345216 0.86305982 0.25357709]]\n",
            "[0.59121552 0.79718958 0.774826   0.50471462]\n",
            "[1.21063752 1.5237877  1.73071455]\n"
          ]
        }
      ]
    },
    {
      "cell_type": "markdown",
      "source": [
        "12. Створіть дві матриці розміром 2x2, заповніть їх випадковими цілими числами в діапазоні від 1 до 10 та виконайте їхнє поелементне множення."
      ],
      "metadata": {
        "id": "RPh3Mnhb6IN8"
      }
    },
    {
      "cell_type": "code",
      "source": [
        "matrix_11 = np.random.randint(1, 11, (2, 2))\n",
        "matrix_12 = np.random.randint(1, 11, (2, 2))\n",
        "r = matrix_11 * matrix_12\n",
        "print(matrix_11)\n",
        "print(matrix_12)\n",
        "print(r)"
      ],
      "metadata": {
        "colab": {
          "base_uri": "https://localhost:8080/"
        },
        "id": "ARxuKLgG-aGm",
        "outputId": "e89391d5-b6ec-40e3-d63a-9406c2b33d34"
      },
      "execution_count": 33,
      "outputs": [
        {
          "output_type": "stream",
          "name": "stdout",
          "text": [
            "[[10  8]\n",
            " [ 1  7]]\n",
            "[[3 2]\n",
            " [8 6]]\n",
            "[[30 16]\n",
            " [ 8 42]]\n"
          ]
        }
      ]
    },
    {
      "cell_type": "markdown",
      "source": [
        "13. Створіть дві матриці розміром 2x2, заповніть їх випадковими цілими числами в діапазоні від 1 до 10 та знайдіть їх добуток."
      ],
      "metadata": {
        "id": "QEL1J4T_6NpX"
      }
    },
    {
      "cell_type": "code",
      "source": [
        "matrix_13 = np.random.randint(1, 11, (2, 2))\n",
        "matrix_14 = np.random.randint(1, 11, (2, 2))\n",
        "r = np.dot(matrix_13, matrix_14)\n",
        "print(matrix_13)\n",
        "print(matrix_14)\n",
        "print(r)"
      ],
      "metadata": {
        "colab": {
          "base_uri": "https://localhost:8080/"
        },
        "id": "rkmO1HL6-1b1",
        "outputId": "4d688e36-ffb4-48aa-8d09-0dabfa626f60"
      },
      "execution_count": 34,
      "outputs": [
        {
          "output_type": "stream",
          "name": "stdout",
          "text": [
            "[[ 7  9]\n",
            " [ 7 10]]\n",
            "[[ 6  6]\n",
            " [10  7]]\n",
            "[[132 105]\n",
            " [142 112]]\n"
          ]
        }
      ]
    },
    {
      "cell_type": "markdown",
      "source": [
        "14. Створіть матрицю розміром 5x5, заповніть її випадковими цілими числами в діапазоні від 1 до 100 та знайдіть суму елементів матриці."
      ],
      "metadata": {
        "id": "Y1v5yrI-6Rdb"
      }
    },
    {
      "cell_type": "code",
      "source": [
        "matrix_15 = np.random.randint(1, 100, (5, 5))\n",
        "print (matrix_15)\n",
        "print(matrix_15.sum())"
      ],
      "metadata": {
        "colab": {
          "base_uri": "https://localhost:8080/"
        },
        "id": "Qmy8UV0k_o12",
        "outputId": "6b57e67a-9c4b-41c3-8a18-25268f4d22a3"
      },
      "execution_count": 37,
      "outputs": [
        {
          "output_type": "stream",
          "name": "stdout",
          "text": [
            "[[72 37 91 87 71]\n",
            " [28 92 44 73 60]\n",
            " [33 54 78 84 84]\n",
            " [73 50 22 43 89]\n",
            " [90 94 58 82 63]]\n",
            "1652\n"
          ]
        }
      ]
    },
    {
      "cell_type": "markdown",
      "source": [
        "15. Створіть дві матриці розміром 4x4, заповніть їх випадковими цілими числами в діапазоні від 1 до 10 та знайдіть їхню різницю."
      ],
      "metadata": {
        "id": "BcKL1n_K6W9l"
      }
    },
    {
      "cell_type": "code",
      "source": [
        "matrix_16 = np.random.randint(1, 11, (4, 4))\n",
        "matrix_17 = np.random.randint(1, 11, (4, 4))\n",
        "r = matrix_16 - matrix_17\n",
        "print(matrix_16)\n",
        "print(matrix_17)\n",
        "print(r)"
      ],
      "metadata": {
        "colab": {
          "base_uri": "https://localhost:8080/"
        },
        "id": "E4VjXEIxAHta",
        "outputId": "b0cc6825-7bcc-4bbc-ebea-f90cc4b16fa4"
      },
      "execution_count": 38,
      "outputs": [
        {
          "output_type": "stream",
          "name": "stdout",
          "text": [
            "[[ 7  1  1  4]\n",
            " [10  1  6  1]\n",
            " [ 4  5  2  5]\n",
            " [10  7  6  6]]\n",
            "[[ 8  2 10  6]\n",
            " [ 9  1  7  9]\n",
            " [ 8  1  3  4]\n",
            " [ 8 10  4  3]]\n",
            "[[-1 -1 -9 -2]\n",
            " [ 1  0 -1 -8]\n",
            " [-4  4 -1  1]\n",
            " [ 2 -3  2  3]]\n"
          ]
        }
      ]
    },
    {
      "cell_type": "markdown",
      "source": [
        "16. Створіть матрицю розміром 3x3, заповніть її випадковими дійсними числами в діапазоні від 0 до 1 та знайдіть вектор-стовпчик, що містить суму елементів кожного рядка матриці."
      ],
      "metadata": {
        "id": "APiKlruv6jTU"
      }
    },
    {
      "cell_type": "code",
      "source": [
        "matrix_18 = np.random.rand(3, 3)\n",
        "\n",
        "row_sums = np.sum(matrix_18, axis=1)\n",
        "column_vector = row_sums.reshape(-1, 1)\n",
        "\n",
        "print(matrix_18)\n",
        "print(column_vector)"
      ],
      "metadata": {
        "colab": {
          "base_uri": "https://localhost:8080/"
        },
        "id": "fcSWh7XrBAAJ",
        "outputId": "51e4a9c8-4d86-44e0-c121-1a508dca697d"
      },
      "execution_count": 39,
      "outputs": [
        {
          "output_type": "stream",
          "name": "stdout",
          "text": [
            "[[0.23319329 0.06615377 0.96576411]\n",
            " [0.54854458 0.83731307 0.99198575]\n",
            " [0.69034712 0.23289328 0.13872371]]\n",
            "[[1.26511117]\n",
            " [2.37784341]\n",
            " [1.06196411]]\n"
          ]
        }
      ]
    },
    {
      "cell_type": "markdown",
      "source": [
        "17. Створіть матрицю розміром 3x4 з довільними цілими числами і створінь матрицю з квадратами цих чисел."
      ],
      "metadata": {
        "id": "ykHbXtre6mlK"
      }
    },
    {
      "cell_type": "code",
      "source": [
        "matrix_19 = np.random.randint(1, 11, (3, 4))\n",
        "squared_matrix_19 = np.square(matrix_19)\n",
        "print(matrix_19)\n",
        "print(squared_matrix_19)"
      ],
      "metadata": {
        "colab": {
          "base_uri": "https://localhost:8080/"
        },
        "id": "c3byOHVwBe19",
        "outputId": "2602cd11-16db-4f47-f802-dfe5dd33459c"
      },
      "execution_count": 41,
      "outputs": [
        {
          "output_type": "stream",
          "name": "stdout",
          "text": [
            "[[ 9 10  5 10]\n",
            " [ 9  3  2 10]\n",
            " [ 9  2  3  2]]\n",
            "[[ 81 100  25 100]\n",
            " [ 81   9   4 100]\n",
            " [ 81   4   9   4]]\n"
          ]
        }
      ]
    },
    {
      "cell_type": "markdown",
      "source": [
        "18. Створіть вектор розміром 4, заповніть його випадковими цілими числами в діапазоні від 1 до 50 та знайдіть вектор з квадратними коренями цих чисел."
      ],
      "metadata": {
        "id": "pdxfflR36quR"
      }
    },
    {
      "cell_type": "code",
      "source": [
        "v_5 = np.random.randint(1, 50, 4)\n",
        "r = np.sqrt(v_5)\n",
        "print(v_5)\n",
        "print(r)"
      ],
      "metadata": {
        "colab": {
          "base_uri": "https://localhost:8080/"
        },
        "id": "1Fmuw-zZCMFZ",
        "outputId": "b1fe531c-2873-4acc-f838-bfcc462ba748"
      },
      "execution_count": 42,
      "outputs": [
        {
          "output_type": "stream",
          "name": "stdout",
          "text": [
            "[31 40 31 17]\n",
            "[5.56776436 6.32455532 5.56776436 4.12310563]\n"
          ]
        }
      ]
    }
  ]
}